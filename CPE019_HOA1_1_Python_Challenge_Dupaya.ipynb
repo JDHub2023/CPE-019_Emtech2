{
  "nbformat": 4,
  "nbformat_minor": 0,
  "metadata": {
    "kernelspec": {
      "display_name": "Python 3",
      "language": "python",
      "name": "python3"
    },
    "language_info": {
      "codemirror_mode": {
        "name": "ipython",
        "version": 3
      },
      "file_extension": ".py",
      "mimetype": "text/x-python",
      "name": "python",
      "nbconvert_exporter": "python",
      "pygments_lexer": "ipython3",
      "version": "3.7.7"
    },
    "colab": {
      "provenance": []
    }
  },
  "cells": [
    {
      "cell_type": "markdown",
      "metadata": {
        "id": "WUQHSYAH8A15"
      },
      "source": [
        "\n",
        "| <h1> Activity 1.1 </h1> | <h1> Python Challenge </h1> |\n",
        "|--- | --- |\n",
        "Name: <br> Jomarie Dupaya\n",
        "Course and Section: CPE019S3 <br>\n",
        "Date Submitted: <br> 1/24/24\n",
        "Instructor:Engr. Roman Richard\n",
        "Date Performed: 1/24/24\n",
        "Date Submitted: 1/24/24\n",
        "\n",
        "<hr>\n",
        "\n",
        "**Instructions**: Answer the questions or complete the tasks outlined below, use the specific method described if applicable. Insert a code cell after each text cell.\n",
        "\n",
        "**Objectives:**\n",
        "- Test understanding of Python basics\n",
        "- Review Python basic to intermediate commands\n",
        "\n",
        "<hr>"
      ]
    },
    {
      "cell_type": "markdown",
      "metadata": {
        "id": "-7dT6HEt8A1_"
      },
      "source": [
        "1. What is 3 to the power of 5?"
      ]
    },
    {
      "cell_type": "code",
      "source": [
        "Exponential = 3**5\n",
        "print(\"=\",Exponential)"
      ],
      "metadata": {
        "id": "CiAIi_wlM23B",
        "colab": {
          "base_uri": "https://localhost:8080/"
        },
        "outputId": "7245cacf-922d-476b-ea66-ec9f0c773e87"
      },
      "execution_count": null,
      "outputs": [
        {
          "output_type": "stream",
          "name": "stdout",
          "text": [
            "= 243\n"
          ]
        }
      ]
    },
    {
      "cell_type": "markdown",
      "metadata": {
        "id": "TpUg2QaM8A2C"
      },
      "source": [
        "2.  Create a variable, s, containing the string \"This course is amazing!\". Using the variable, split the string into a list."
      ]
    },
    {
      "cell_type": "code",
      "source": [
        "s = \"This course is amazing!\"\n",
        "s.split()"
      ],
      "metadata": {
        "id": "AmSwowsTCUwA",
        "outputId": "68b51ab5-26be-45cd-a59c-507b8d969dd6",
        "colab": {
          "base_uri": "https://localhost:8080/"
        }
      },
      "execution_count": null,
      "outputs": [
        {
          "output_type": "execute_result",
          "data": {
            "text/plain": [
              "['This', 'course', 'is', 'amazing!']"
            ]
          },
          "metadata": {},
          "execution_count": 6
        }
      ]
    },
    {
      "cell_type": "markdown",
      "metadata": {
        "id": "B3yPY5pD8A2D"
      },
      "source": [
        "3.  Given the variables height and mountain, use .format() to print the following string:\n",
        "`The height of Mt. Everest is 8848 meters.`"
      ]
    },
    {
      "cell_type": "code",
      "source": [
        "s = \"The heigh of Mt. Everest is 8848 meters.\"\n",
        "s.format()"
      ],
      "metadata": {
        "colab": {
          "base_uri": "https://localhost:8080/",
          "height": 35
        },
        "id": "XoViq7X8eBr2",
        "outputId": "c21c0398-2de4-4f87-a6d2-7cac4c97e1c4"
      },
      "execution_count": null,
      "outputs": [
        {
          "output_type": "execute_result",
          "data": {
            "text/plain": [
              "'The heigh of Mt. Everest is 8848 meters.'"
            ],
            "application/vnd.google.colaboratory.intrinsic+json": {
              "type": "string"
            }
          },
          "metadata": {},
          "execution_count": 7
        }
      ]
    },
    {
      "cell_type": "markdown",
      "metadata": {
        "id": "WPFy00ne8A2F"
      },
      "source": [
        "4. Given the following nested list, use indexing to grab the word \"this\".\n",
        "\n",
        "```\n",
        "lst = ['a','b',[4,10,11],['c',[1,66,['this']],2,111],'e',7]\n",
        "```"
      ]
    },
    {
      "cell_type": "code",
      "source": [
        "lst = ['a','b',[4,10,11],['c',[1,66,['this']],2,111],'e',7]\n",
        "print(lst[3][1][2][0])"
      ],
      "metadata": {
        "colab": {
          "base_uri": "https://localhost:8080/"
        },
        "id": "xkMDWq82eNbV",
        "outputId": "27832186-f646-4b50-afd2-89e01b74a727"
      },
      "execution_count": null,
      "outputs": [
        {
          "output_type": "stream",
          "name": "stdout",
          "text": [
            "this\n"
          ]
        }
      ]
    },
    {
      "cell_type": "markdown",
      "metadata": {
        "id": "cUA9kmWi8A2H"
      },
      "source": [
        "5. Given the following nested dictionary, grab the word \"that\". This exercise is a little more difficult.\n",
        "```\n",
        "d = {'k1':['val1','val2','val3',{'we':['need','to','go',{'deeper':[1,2,3,'that']}]}]}\n",
        "```"
      ]
    },
    {
      "cell_type": "code",
      "source": [
        "d = {'k1':['val1','val2','val3',{'we':['need','to','go',{'deeper':[1,2,3,'that']}]}]}\n",
        "print(d['k1'][3]['we'][3]['deeper'][3])"
      ],
      "metadata": {
        "colab": {
          "base_uri": "https://localhost:8080/"
        },
        "id": "L0r5IOwJfAz4",
        "outputId": "795c8fbf-7b1d-497a-d3be-ebedd718e825"
      },
      "execution_count": null,
      "outputs": [
        {
          "output_type": "stream",
          "name": "stdout",
          "text": [
            "that\n"
          ]
        }
      ]
    },
    {
      "cell_type": "markdown",
      "metadata": {
        "id": "-WrAu-KK8A2I"
      },
      "source": [
        "6. Create a function, GetDomain(), that grabs the email website domain from a string in the form: user@domain.com.\n",
        "So for example, passing \"user@domain.com\" would return: domain.com"
      ]
    },
    {
      "cell_type": "code",
      "source": [
        "email = 'user@domain.com'\n",
        "def GetDomain(str):\n",
        "  domain = str[str.index('@') + 1 : ]\n",
        "  print(domain)\n",
        "\n",
        "GetDomain(email)"
      ],
      "metadata": {
        "colab": {
          "base_uri": "https://localhost:8080/"
        },
        "id": "pW77qVNOfs5H",
        "outputId": "4f3e69e7-3f65-4f37-8230-0a5537e95169"
      },
      "execution_count": null,
      "outputs": [
        {
          "output_type": "stream",
          "name": "stdout",
          "text": [
            "domain.com\n"
          ]
        }
      ]
    },
    {
      "cell_type": "markdown",
      "metadata": {
        "id": "Fx4DIIz18A2K"
      },
      "source": [
        "7. Create a basic function, findInternet(), that returns True if the word 'Internet' is contained in the input string. Don't worry about edge cases like punctuation being attached to the word, but account for capitalization. (Hint: Please see https://docs.python.org/2/reference/expressions.html#in)"
      ]
    },
    {
      "cell_type": "code",
      "source": [
        "randomword = 'internet'\n",
        "def findinternet(str):\n",
        "  if (str.find('internet') !=-1):\n",
        "    print(True)\n",
        "  else:\n",
        "    print(False)\n",
        "\n",
        "\n",
        "findinternet(randomword)"
      ],
      "metadata": {
        "colab": {
          "base_uri": "https://localhost:8080/"
        },
        "id": "zY-_fb5kfvrt",
        "outputId": "22f4478e-676e-4f97-b6ff-d6a9f42e14c0"
      },
      "execution_count": null,
      "outputs": [
        {
          "output_type": "stream",
          "name": "stdout",
          "text": [
            "True\n"
          ]
        }
      ]
    },
    {
      "cell_type": "markdown",
      "metadata": {
        "id": "4pPortmo8A2M"
      },
      "source": [
        "8. Create a function, countIoT(), that counts the number of times the word \"IoT\" occurs in a string. Ignore edge cases but take into account capitalization."
      ]
    },
    {
      "cell_type": "code",
      "source": [
        "string = 'The Internet of Things or IoT is part of our elective for IS.'\n",
        "\n",
        "def countIoT(str):\n",
        "  print(str.count('IoT'))\n",
        "\n",
        "countIoT(string)"
      ],
      "metadata": {
        "colab": {
          "base_uri": "https://localhost:8080/"
        },
        "id": "F6Ux99-kfwHf",
        "outputId": "8019671c-0624-4128-f3c3-69cfa8b5490d"
      },
      "execution_count": null,
      "outputs": [
        {
          "output_type": "stream",
          "name": "stdout",
          "text": [
            "1\n"
          ]
        }
      ]
    },
    {
      "cell_type": "markdown",
      "metadata": {
        "id": "Hg-mqSUd8A2O"
      },
      "source": [
        "9. Use lambda expressions and the filter() function to filter out words from a list that do not start with the letter 'd'. For example:\n",
        "```\n",
        "seq = ['data','salt' ,'dairy','cat', 'dog']\n",
        "```\n",
        "should be filtered down to:\n",
        "```\n",
        "['data', 'dairy', 'dog']\n",
        "```"
      ]
    },
    {
      "cell_type": "code",
      "source": [
        "seq = ['data','salt' ,'dairy','cat', 'dog']\n",
        "filtered = 'd'\n",
        "\n",
        "reduced = list(filter(lambda x: x[0] == 'd', seq))\n",
        "print(reduced)"
      ],
      "metadata": {
        "colab": {
          "base_uri": "https://localhost:8080/"
        },
        "id": "XyHBgkg1hOwg",
        "outputId": "d2247887-1461-4c4e-9945-34f0cbbe1047"
      },
      "execution_count": null,
      "outputs": [
        {
          "output_type": "stream",
          "name": "stdout",
          "text": [
            "['data', 'dairy', 'dog']\n"
          ]
        }
      ]
    },
    {
      "cell_type": "markdown",
      "metadata": {
        "id": "i5HTJZtM8A2O"
      },
      "source": [
        "10. Use lambda expressions and the map() function to convert a list of words to upper case. For example:\n",
        "```\n",
        "seq = ['data','salt' ,'dairy','cat', 'dog']\n",
        "```\n",
        "should become:\n",
        "```\n",
        "['DATA', 'SALT', 'DAIRY', 'CAT', 'DOG']\n",
        "```"
      ]
    },
    {
      "cell_type": "code",
      "source": [
        "seq = ['data','salt' ,'dairy','cat', 'dog']\n",
        "\n",
        "upper = list(map(lambda x: x.upper(), seq))\n",
        "print(upper)"
      ],
      "metadata": {
        "colab": {
          "base_uri": "https://localhost:8080/"
        },
        "id": "EULydK4K141A",
        "outputId": "e7c8b44e-7525-422c-d33a-180bc10173cc"
      },
      "execution_count": null,
      "outputs": [
        {
          "output_type": "stream",
          "name": "stdout",
          "text": [
            "['DATA', 'SALT', 'DAIRY', 'CAT', 'DOG']\n"
          ]
        }
      ]
    },
    {
      "cell_type": "markdown",
      "metadata": {
        "id": "1t6lwmWv8A2Q"
      },
      "source": [
        "11. Imagine a smart thermostat that is connected to the door, so that it can detect, in addition to the temperature, when people enter or leave the house. <br><br>Write a function that, if the temperature is lower than 20 degrees Celsius, and there are people in the house (encoded as a boolean value to be passed as a parameter to the function), turns on the heating by returning the string \"Heating on\". When the temperature reaches 23 degrees or there are no people in the house, it returns the string \"Heating off\". When none of these conditions are met, the function returns \"Do nothing\"."
      ]
    },
    {
      "cell_type": "code",
      "source": [
        "def control_heating(temperature, people_in_house):\n",
        "    if temperature < 20 and people_in_house:\n",
        "        return \"Heating on\"\n",
        "    elif temperature >= 23 or not people_in_house:\n",
        "        return \"Heating off\"\n",
        "    else:\n",
        "        return \"Do nothing\"\n",
        "\n",
        "temperature = 21\n",
        "people_present = True\n",
        "result = control_heating(temperature, people_present)\n",
        "print(result)"
      ],
      "metadata": {
        "id": "TwjMjz9Xh3-j",
        "colab": {
          "base_uri": "https://localhost:8080/"
        },
        "outputId": "75512ce2-bffb-48b7-acd4-ecda0c20e894"
      },
      "execution_count": 10,
      "outputs": [
        {
          "output_type": "stream",
          "name": "stdout",
          "text": [
            "Do nothing\n"
          ]
        }
      ]
    },
    {
      "cell_type": "markdown",
      "metadata": {
        "id": "HvZXBwvn8A2S"
      },
      "source": [
        "12. The function zip(list1, list2) returns a list of tuples, where the i-th tuple contains the i-th element from each of the argument lists. Use the zip function to create the following list of tuples: <br>\n",
        "```\n",
        "zipped = [('Parking', -1), ('Shops',0), ('Food Court',1), ('Offices',2)]\n",
        "```"
      ]
    },
    {
      "cell_type": "code",
      "metadata": {
        "id": "BmMSb6ys8A2T",
        "colab": {
          "base_uri": "https://localhost:8080/"
        },
        "outputId": "54d6b3d8-da2e-4baf-a7c3-d6409ddfe69e"
      },
      "source": [
        "# Code cell 13\n",
        "floor_types = ['Parking', 'Shops', 'Food Court', 'Offices']\n",
        "floor_numbers = range(-1, 3)\n",
        "\n",
        "zipped = list(zip(floor_types, floor_numbers))\n",
        "print(zipped)"
      ],
      "execution_count": 13,
      "outputs": [
        {
          "output_type": "stream",
          "name": "stdout",
          "text": [
            "[('Parking', -1), ('Shops', 0), ('Food Court', 1), ('Offices', 2)]\n"
          ]
        }
      ]
    },
    {
      "cell_type": "markdown",
      "metadata": {
        "id": "I25Wddbt8A2U"
      },
      "source": [
        "13. Use the zip function and dict() to create a dictionary, elevator_dict, where the keys are the floor types and the values are the corresponding floor number so that:<br>\n",
        "```\n",
        "elevator_dict[-1] = 'Parking'\n",
        "```"
      ]
    },
    {
      "cell_type": "code",
      "metadata": {
        "id": "aalDO_TQ8A2U",
        "colab": {
          "base_uri": "https://localhost:8080/"
        },
        "outputId": "363d12db-750e-4e37-a108-c04008f03471"
      },
      "source": [
        "# Code cell 14\n",
        "floor_types = ['Parking', 'Shops', 'Food Court', 'Offices']\n",
        "floor_numbers = range(-1, 3)\n",
        "\n",
        "elevator_dict = dict(zip(floor_numbers, floor_types))\n",
        "print(elevator_dict)"
      ],
      "execution_count": 22,
      "outputs": [
        {
          "output_type": "stream",
          "name": "stdout",
          "text": [
            "{-1: 'Parking', 0: 'Shops', 1: 'Food Court', 2: 'Offices'}\n"
          ]
        }
      ]
    },
    {
      "cell_type": "code",
      "metadata": {
        "id": "qExH72Zv8A2V",
        "colab": {
          "base_uri": "https://localhost:8080/",
          "height": 35
        },
        "outputId": "7411c8bc-e15f-441f-b15b-f80f4a20a536"
      },
      "source": [
        "# Code cell 15\n",
        "# Verify elevator_dict[-1]\n",
        "elevator_dict[-1]"
      ],
      "execution_count": 23,
      "outputs": [
        {
          "output_type": "execute_result",
          "data": {
            "text/plain": [
              "'Parking'"
            ],
            "application/vnd.google.colaboratory.intrinsic+json": {
              "type": "string"
            }
          },
          "metadata": {},
          "execution_count": 23
        }
      ]
    },
    {
      "cell_type": "markdown",
      "metadata": {
        "id": "DXXKXxFv8A2V"
      },
      "source": [
        "14. Create an Elevator class. The constructor accepts the list of strings floor_types and the list of integers floor_numbers. The class implements the methods 'ask_which_floor' and 'go_to_floor'. The output of this methods should look as follows:\n",
        "```\n",
        "floor_types = ['Parking', 'Shops', 'Food Court', 'Offices']\n",
        "floors_numbers = range(-1,4)\n",
        "el = Elevator(floor_numbers, floor_types)\n",
        "el.go_to_floor(1)\n",
        "Going to Food Court floor!\n",
        "el.go_to_floor(-2)\n",
        "There is floor number -2 in this building.\n",
        "el.ask_which_floor('Offices')\n",
        "The floor Offices is the number: 2\n",
        "el.ask_which_floor('Swimming Pool')\n",
        "There is no Swimming Pool floor in this building.\n",
        "```"
      ]
    },
    {
      "cell_type": "code",
      "source": [
        "class Elevator:\n",
        "    def __init__(self, floor_numbers, floor_types):\n",
        "        self.floor_map = dict(zip(floor_numbers, floor_types))\n",
        "\n",
        "    def floornum(self, floor_number):\n",
        "        if floor_number in self.floor_map:\n",
        "            floor_type = self.floor_map[floor_number]\n",
        "            print(f\"Going to {floor_type} floor!\")\n",
        "        else:\n",
        "            print(f\"There is no floor number {floor_number} in this building.\")\n",
        "\n",
        "    def ask_which_floor(self, floor_type):\n",
        "        if floor_type in self.floor_map.values():\n",
        "            floor_number = list(self.floor_map.keys())[list(self.floor_map.values()).index(floor_type)]\n",
        "            print(f\"The floor {floor_type} is the number: {floor_number}\")\n",
        "        else:\n",
        "            print(f\"There is no {floor_type} floor in this building.\")\n",
        "\n",
        "# Example usage:\n",
        "floor_types = ['Parking', 'Shops', 'Food Court', 'Offices']\n",
        "floor_numbers = range(-1, 4)\n",
        "\n",
        "el = Elevator(floor_numbers, floor_types)\n",
        "el.floornum(1)\n",
        "el.floornum(-2)\n",
        "el.ask_which_floor('Offices')\n",
        "el.ask_which_floor('Swimming Pool')\n"
      ],
      "metadata": {
        "colab": {
          "base_uri": "https://localhost:8080/"
        },
        "id": "mRNHcXWOzrWZ",
        "outputId": "4942535d-5d77-4a47-da82-fcbdc85e89f1"
      },
      "execution_count": 25,
      "outputs": [
        {
          "output_type": "stream",
          "name": "stdout",
          "text": [
            "Going to Food Court floor!\n",
            "There is no floor number -2 in this building.\n",
            "The floor Offices is the number: 2\n",
            "There is no Swimming Pool floor in this building.\n"
          ]
        }
      ]
    },
    {
      "cell_type": "markdown",
      "metadata": {
        "id": "a--gPBSR8A2Z"
      },
      "source": [
        "### Good Job!"
      ]
    }
  ]
}